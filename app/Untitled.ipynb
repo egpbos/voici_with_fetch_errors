{
 "cells": [
  {
   "cell_type": "code",
   "execution_count": 1,
   "id": "0af4109c-ebd6-456c-b147-8e2aeb3fa95b",
   "metadata": {},
   "outputs": [
    {
     "name": "stdout",
     "output_type": "stream",
     "text": [
      "twoink\n"
     ]
    }
   ],
   "source": [
    "print(\"twoink\")"
   ]
  },
  {
   "cell_type": "code",
   "execution_count": 2,
   "id": "601d2e5b-b738-448e-a508-469922cc223b",
   "metadata": {},
   "outputs": [
    {
     "name": "stdout",
     "output_type": "stream",
     "text": [
      "/Users/pbos/.cache/uv/builds-v0/.tmplZSJ6h/bin/python: No module named pip\n",
      "Note: you may need to restart the kernel to use updated packages.\n"
     ]
    }
   ],
   "source": [
    "%pip install -q snowballstemmer"
   ]
  },
  {
   "cell_type": "code",
   "execution_count": null,
   "id": "85a60d07-4fbf-408f-8622-a57085ec324b",
   "metadata": {},
   "outputs": [],
   "source": []
  }
 ],
 "metadata": {
  "kernelspec": {
   "display_name": "Python 3 (ipykernel)",
   "language": "python",
   "name": "python3"
  },
  "language_info": {
   "codemirror_mode": {
    "name": "ipython",
    "version": 3
   },
   "file_extension": ".py",
   "mimetype": "text/x-python",
   "name": "python",
   "nbconvert_exporter": "python",
   "pygments_lexer": "ipython3",
   "version": "3.13.5"
  }
 },
 "nbformat": 4,
 "nbformat_minor": 5
}
